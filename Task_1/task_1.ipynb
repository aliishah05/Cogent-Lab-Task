{
 "cells": [
  {
   "cell_type": "code",
   "execution_count": 1,
   "metadata": {},
   "outputs": [
    {
     "name": "stderr",
     "output_type": "stream",
     "text": [
      "\n",
      "[notice] A new release of pip is available: 24.0 -> 24.1.2\n",
      "[notice] To update, run: C:\\Users\\alish\\AppData\\Local\\Microsoft\\WindowsApps\\PythonSoftwareFoundation.Python.3.11_qbz5n2kfra8p0\\python.exe -m pip install --upgrade pip\n"
     ]
    },
    {
     "name": "stdout",
     "output_type": "stream",
     "text": [
      "Requirement already satisfied: langchain in c:\\users\\alish\\appdata\\local\\packages\\pythonsoftwarefoundation.python.3.11_qbz5n2kfra8p0\\localcache\\local-packages\\python311\\site-packages (0.2.6)\n",
      "Requirement already satisfied: openai in c:\\users\\alish\\appdata\\local\\packages\\pythonsoftwarefoundation.python.3.11_qbz5n2kfra8p0\\localcache\\local-packages\\python311\\site-packages (1.35.7)\n",
      "Requirement already satisfied: PyYAML>=5.3 in c:\\users\\alish\\appdata\\local\\packages\\pythonsoftwarefoundation.python.3.11_qbz5n2kfra8p0\\localcache\\local-packages\\python311\\site-packages (from langchain) (6.0.1)\n",
      "Requirement already satisfied: SQLAlchemy<3,>=1.4 in c:\\users\\alish\\appdata\\local\\packages\\pythonsoftwarefoundation.python.3.11_qbz5n2kfra8p0\\localcache\\local-packages\\python311\\site-packages (from langchain) (2.0.28)\n",
      "Requirement already satisfied: aiohttp<4.0.0,>=3.8.3 in c:\\users\\alish\\appdata\\local\\packages\\pythonsoftwarefoundation.python.3.11_qbz5n2kfra8p0\\localcache\\local-packages\\python311\\site-packages (from langchain) (3.9.3)\n",
      "Requirement already satisfied: langchain-core<0.3.0,>=0.2.10 in c:\\users\\alish\\appdata\\local\\packages\\pythonsoftwarefoundation.python.3.11_qbz5n2kfra8p0\\localcache\\local-packages\\python311\\site-packages (from langchain) (0.2.21)\n",
      "Requirement already satisfied: langchain-text-splitters<0.3.0,>=0.2.0 in c:\\users\\alish\\appdata\\local\\packages\\pythonsoftwarefoundation.python.3.11_qbz5n2kfra8p0\\localcache\\local-packages\\python311\\site-packages (from langchain) (0.2.2)\n",
      "Requirement already satisfied: langsmith<0.2.0,>=0.1.17 in c:\\users\\alish\\appdata\\local\\packages\\pythonsoftwarefoundation.python.3.11_qbz5n2kfra8p0\\localcache\\local-packages\\python311\\site-packages (from langchain) (0.1.92)\n",
      "Requirement already satisfied: numpy<2,>=1 in c:\\users\\alish\\appdata\\local\\packages\\pythonsoftwarefoundation.python.3.11_qbz5n2kfra8p0\\localcache\\local-packages\\python311\\site-packages (from langchain) (1.23.5)\n",
      "Requirement already satisfied: pydantic<3,>=1 in c:\\users\\alish\\appdata\\local\\packages\\pythonsoftwarefoundation.python.3.11_qbz5n2kfra8p0\\localcache\\local-packages\\python311\\site-packages (from langchain) (2.8.2)\n",
      "Requirement already satisfied: requests<3,>=2 in c:\\users\\alish\\appdata\\local\\packages\\pythonsoftwarefoundation.python.3.11_qbz5n2kfra8p0\\localcache\\local-packages\\python311\\site-packages (from langchain) (2.31.0)\n",
      "Requirement already satisfied: tenacity!=8.4.0,<9.0.0,>=8.1.0 in c:\\users\\alish\\appdata\\local\\packages\\pythonsoftwarefoundation.python.3.11_qbz5n2kfra8p0\\localcache\\local-packages\\python311\\site-packages (from langchain) (8.2.3)\n",
      "Requirement already satisfied: anyio<5,>=3.5.0 in c:\\users\\alish\\appdata\\local\\packages\\pythonsoftwarefoundation.python.3.11_qbz5n2kfra8p0\\localcache\\local-packages\\python311\\site-packages (from openai) (4.3.0)\n",
      "Requirement already satisfied: distro<2,>=1.7.0 in c:\\users\\alish\\appdata\\local\\packages\\pythonsoftwarefoundation.python.3.11_qbz5n2kfra8p0\\localcache\\local-packages\\python311\\site-packages (from openai) (1.9.0)\n",
      "Requirement already satisfied: httpx<1,>=0.23.0 in c:\\users\\alish\\appdata\\local\\packages\\pythonsoftwarefoundation.python.3.11_qbz5n2kfra8p0\\localcache\\local-packages\\python311\\site-packages (from openai) (0.27.0)\n",
      "Requirement already satisfied: sniffio in c:\\users\\alish\\appdata\\local\\packages\\pythonsoftwarefoundation.python.3.11_qbz5n2kfra8p0\\localcache\\local-packages\\python311\\site-packages (from openai) (1.3.1)\n",
      "Requirement already satisfied: tqdm>4 in c:\\users\\alish\\appdata\\local\\packages\\pythonsoftwarefoundation.python.3.11_qbz5n2kfra8p0\\localcache\\local-packages\\python311\\site-packages (from openai) (4.66.2)\n",
      "Requirement already satisfied: typing-extensions<5,>=4.7 in c:\\users\\alish\\appdata\\local\\packages\\pythonsoftwarefoundation.python.3.11_qbz5n2kfra8p0\\localcache\\local-packages\\python311\\site-packages (from openai) (4.10.0)\n",
      "Requirement already satisfied: aiosignal>=1.1.2 in c:\\users\\alish\\appdata\\local\\packages\\pythonsoftwarefoundation.python.3.11_qbz5n2kfra8p0\\localcache\\local-packages\\python311\\site-packages (from aiohttp<4.0.0,>=3.8.3->langchain) (1.3.1)\n",
      "Requirement already satisfied: attrs>=17.3.0 in c:\\users\\alish\\appdata\\local\\packages\\pythonsoftwarefoundation.python.3.11_qbz5n2kfra8p0\\localcache\\local-packages\\python311\\site-packages (from aiohttp<4.0.0,>=3.8.3->langchain) (23.2.0)\n",
      "Requirement already satisfied: frozenlist>=1.1.1 in c:\\users\\alish\\appdata\\local\\packages\\pythonsoftwarefoundation.python.3.11_qbz5n2kfra8p0\\localcache\\local-packages\\python311\\site-packages (from aiohttp<4.0.0,>=3.8.3->langchain) (1.4.1)\n",
      "Requirement already satisfied: multidict<7.0,>=4.5 in c:\\users\\alish\\appdata\\local\\packages\\pythonsoftwarefoundation.python.3.11_qbz5n2kfra8p0\\localcache\\local-packages\\python311\\site-packages (from aiohttp<4.0.0,>=3.8.3->langchain) (6.0.5)\n",
      "Requirement already satisfied: yarl<2.0,>=1.0 in c:\\users\\alish\\appdata\\local\\packages\\pythonsoftwarefoundation.python.3.11_qbz5n2kfra8p0\\localcache\\local-packages\\python311\\site-packages (from aiohttp<4.0.0,>=3.8.3->langchain) (1.9.4)\n",
      "Requirement already satisfied: idna>=2.8 in c:\\users\\alish\\appdata\\local\\packages\\pythonsoftwarefoundation.python.3.11_qbz5n2kfra8p0\\localcache\\local-packages\\python311\\site-packages (from anyio<5,>=3.5.0->openai) (2.10)\n",
      "Requirement already satisfied: certifi in c:\\users\\alish\\appdata\\local\\packages\\pythonsoftwarefoundation.python.3.11_qbz5n2kfra8p0\\localcache\\local-packages\\python311\\site-packages (from httpx<1,>=0.23.0->openai) (2024.2.2)\n",
      "Requirement already satisfied: httpcore==1.* in c:\\users\\alish\\appdata\\local\\packages\\pythonsoftwarefoundation.python.3.11_qbz5n2kfra8p0\\localcache\\local-packages\\python311\\site-packages (from httpx<1,>=0.23.0->openai) (1.0.5)\n",
      "Requirement already satisfied: h11<0.15,>=0.13 in c:\\users\\alish\\appdata\\local\\packages\\pythonsoftwarefoundation.python.3.11_qbz5n2kfra8p0\\localcache\\local-packages\\python311\\site-packages (from httpcore==1.*->httpx<1,>=0.23.0->openai) (0.14.0)\n",
      "Requirement already satisfied: jsonpatch<2.0,>=1.33 in c:\\users\\alish\\appdata\\local\\packages\\pythonsoftwarefoundation.python.3.11_qbz5n2kfra8p0\\localcache\\local-packages\\python311\\site-packages (from langchain-core<0.3.0,>=0.2.10->langchain) (1.33)\n",
      "Requirement already satisfied: packaging<25,>=23.2 in c:\\users\\alish\\appdata\\local\\packages\\pythonsoftwarefoundation.python.3.11_qbz5n2kfra8p0\\localcache\\local-packages\\python311\\site-packages (from langchain-core<0.3.0,>=0.2.10->langchain) (23.2)\n",
      "Requirement already satisfied: orjson<4.0.0,>=3.9.14 in c:\\users\\alish\\appdata\\local\\packages\\pythonsoftwarefoundation.python.3.11_qbz5n2kfra8p0\\localcache\\local-packages\\python311\\site-packages (from langsmith<0.2.0,>=0.1.17->langchain) (3.9.15)\n",
      "Requirement already satisfied: annotated-types>=0.4.0 in c:\\users\\alish\\appdata\\local\\packages\\pythonsoftwarefoundation.python.3.11_qbz5n2kfra8p0\\localcache\\local-packages\\python311\\site-packages (from pydantic<3,>=1->langchain) (0.6.0)\n",
      "Requirement already satisfied: pydantic-core==2.20.1 in c:\\users\\alish\\appdata\\local\\packages\\pythonsoftwarefoundation.python.3.11_qbz5n2kfra8p0\\localcache\\local-packages\\python311\\site-packages (from pydantic<3,>=1->langchain) (2.20.1)\n",
      "Requirement already satisfied: charset-normalizer<4,>=2 in c:\\users\\alish\\appdata\\local\\packages\\pythonsoftwarefoundation.python.3.11_qbz5n2kfra8p0\\localcache\\local-packages\\python311\\site-packages (from requests<3,>=2->langchain) (3.3.2)\n",
      "Requirement already satisfied: urllib3<3,>=1.21.1 in c:\\users\\alish\\appdata\\local\\packages\\pythonsoftwarefoundation.python.3.11_qbz5n2kfra8p0\\localcache\\local-packages\\python311\\site-packages (from requests<3,>=2->langchain) (2.2.1)\n",
      "Requirement already satisfied: greenlet!=0.4.17 in c:\\users\\alish\\appdata\\local\\packages\\pythonsoftwarefoundation.python.3.11_qbz5n2kfra8p0\\localcache\\local-packages\\python311\\site-packages (from SQLAlchemy<3,>=1.4->langchain) (3.0.3)\n",
      "Requirement already satisfied: colorama in c:\\users\\alish\\appdata\\local\\packages\\pythonsoftwarefoundation.python.3.11_qbz5n2kfra8p0\\localcache\\local-packages\\python311\\site-packages (from tqdm>4->openai) (0.4.6)\n",
      "Requirement already satisfied: jsonpointer>=1.9 in c:\\users\\alish\\appdata\\local\\packages\\pythonsoftwarefoundation.python.3.11_qbz5n2kfra8p0\\localcache\\local-packages\\python311\\site-packages (from jsonpatch<2.0,>=1.33->langchain-core<0.3.0,>=0.2.10->langchain) (2.4)\n"
     ]
    }
   ],
   "source": [
    "!pip install langchain openai"
   ]
  },
  {
   "cell_type": "code",
   "execution_count": 7,
   "metadata": {},
   "outputs": [],
   "source": [
    "from langchain.llms import OpenAI\n",
    "from langchain.prompts import PromptTemplate\n",
    "from langchain.chains import LLMChain"
   ]
  },
  {
   "cell_type": "code",
   "execution_count": 1,
   "metadata": {},
   "outputs": [
    {
     "name": "stdout",
     "output_type": "stream",
     "text": [
      "Requirement already satisfied: python-dotenv in c:\\users\\alish\\appdata\\local\\packages\\pythonsoftwarefoundation.python.3.11_qbz5n2kfra8p0\\localcache\\local-packages\\python311\\site-packages (1.0.1)\n"
     ]
    },
    {
     "name": "stderr",
     "output_type": "stream",
     "text": [
      "\n",
      "[notice] A new release of pip is available: 24.0 -> 24.1.2\n",
      "[notice] To update, run: C:\\Users\\alish\\AppData\\Local\\Microsoft\\WindowsApps\\PythonSoftwareFoundation.Python.3.11_qbz5n2kfra8p0\\python.exe -m pip install --upgrade pip\n"
     ]
    }
   ],
   "source": [
    "!pip install python-dotenv"
   ]
  },
  {
   "cell_type": "code",
   "execution_count": 3,
   "metadata": {},
   "outputs": [
    {
     "name": "stderr",
     "output_type": "stream",
     "text": [
      "C:\\Users\\alish\\AppData\\Local\\Packages\\PythonSoftwareFoundation.Python.3.11_qbz5n2kfra8p0\\LocalCache\\local-packages\\Python311\\site-packages\\langchain_core\\_api\\deprecation.py:139: LangChainDeprecationWarning: The class `OpenAI` was deprecated in LangChain 0.0.10 and will be removed in 0.3.0. An updated version of the class exists in the langchain-openai package and should be used instead. To use it run `pip install -U langchain-openai` and import as `from langchain_openai import OpenAI`.\n",
      "  warn_deprecated(\n"
     ]
    }
   ],
   "source": [
    "import openai\n",
    "import os\n",
    "\n",
    "from dotenv import load_dotenv\n",
    "\n",
    "load_dotenv()\n",
    "\n",
    "OPENAI_KEY = os.getenv('OPENAI_API_KEY')\n",
    "\n",
    "model = OpenAI(api_key=OPENAI_KEY)"
   ]
  },
  {
   "cell_type": "markdown",
   "metadata": {},
   "source": [
    "Final"
   ]
  },
  {
   "cell_type": "code",
   "execution_count": 33,
   "metadata": {},
   "outputs": [],
   "source": [
    "def get_user_inputs():\n",
    "    print(\"Please answer the following questions to generate your social media prompt:\")\n",
    "\n",
    "    topic = input(\"Describe the main topic or focus of the post: \")\n",
    "    message = input(\"What is the key message or takeaway you want to convey? \")\n",
    "    achievements = input(\"Are there any specific achievements or highlights that should be mentioned? \")\n",
    "    data = input(\"Is there any relevant data, quote, or testimonial to include? \")\n",
    "    call_to_action = input(\"What action do you want the audience to take? \")\n",
    "    hashtags = input(\"Are there any hashtags or URLs to include? \")\n",
    "    tone_style = input(\"Describe the tone and style of the post: \")\n",
    "\n",
    "    # you can use the given hardcoded data if you don't want to input again and again\n",
    "\n",
    "    # topic = \"successful collaboration between Sodexo and CoachHub to accelerate leadership development across the APMEA region.\"\n",
    "    # message = \"The challenge addressed in this case was the need for scalable leadership development programs that could effectively engage and develop employees across diverse geographic regions, particularly in the Asia Pacific, Middle East, and Africa (APMEA)\" \n",
    "    # achievements = \"The key results achieved in this story include the implementation of scalable coaching programs powered by AI and analytics, which led to improved knowledge retention, enhanced leadership skills, and increased employee engagement across the APMEA region.\"\n",
    "    # data = \"75% of classroom-style training is forgotten if it's not implemented within 6 days after.\"\n",
    "    # call_to_action = \"Join thousands of coachees like Sodexo's Head of FMCG Accounts, Jean Baptiste CALEMARD, on a journey of growth and transformation to explore the greater you.\" \n",
    "    # hashtags = \"#ExploreTheGreaterYou https://bit.ly/3LMxIHg \"\n",
    "    # tone_style = \"professional and make sure to write the achievements in the form of points.\"\n",
    "\n",
    "    # topic = \"A transformative partnership between ABC Manufacturing and XYZ Consulting to enhance operational efficiency and sustainability practices in their production facilities across North America.\"\n",
    "    # message = \"The main challenge was to improve operational efficiency and integrate sustainable practices into the manufacturing processes while reducing waste and energy consumption across multiple locations in North America.\"\n",
    "    # achievements = \"The collaboration led to the development of a comprehensive sustainability program which achieved significant outcomes: - 30% reduction in energy consumption.- 25% decrease in production waste. - Improved overall operational efficiency by 20%.\"\n",
    "    # data = \"'Our partnership with XYZ Consulting has not only improved our efficiency but has also made our operations more sustainable. We've seen a 30% reduction in energy consumption within just six months.' – John Doe, CEO of ABC Manufacturing.\"\n",
    "    # call_to_action = \"Join ABC Manufacturing in our commitment to a sustainable future. Learn more about how our innovative practices can transform your business too.\"\n",
    "    # hashtags = \"#SustainableManufacturing #EfficiencyBoost https://bit.ly/3LMxIHg\"\n",
    "    # tone_style = \"Professional and inspirational, with clear points highlighting the achievements and impact of the partnership.\"\n",
    "  \n",
    "    return {\n",
    "        \"topic\": topic,\n",
    "        \"message\": message,\n",
    "        \"achievements\": achievements,\n",
    "        \"data\": data,\n",
    "        \"call_to_action\": call_to_action,\n",
    "        \"hashtags\": hashtags,\n",
    "        \"tone_style\": tone_style\n",
    "    }"
   ]
  },
  {
   "cell_type": "code",
   "execution_count": 15,
   "metadata": {},
   "outputs": [],
   "source": [
    "def create_dynamic_template(user_inputs):\n",
    "    template_parts = []\n",
    "\n",
    "    template_parts.append(\"You are a skilled social media content creator. Use the following details to create a professional and engaging social media post:\\n\")\n",
    "\n",
    "    if user_inputs.get(\"topic\"):\n",
    "        template_parts.append(f\"- **Topic**: {user_inputs['topic']}\\n\")\n",
    "    if user_inputs.get(\"message\"):\n",
    "        template_parts.append(f\"- **Key Message**: {user_inputs['message']}\\n\")\n",
    "    if user_inputs.get(\"achievements\"):\n",
    "        template_parts.append(f\"- **Achievements**: {user_inputs['achievements']}\\n\")\n",
    "    if user_inputs.get(\"data\"):\n",
    "        template_parts.append(f\"- **Data/Quote/Testimonial**: {user_inputs['data']}\\n\")\n",
    "    if user_inputs.get(\"call_to_action\"):\n",
    "        template_parts.append(f\"- **Call to Action**: {user_inputs['call_to_action']}\\n\")\n",
    "    if user_inputs.get(\"hashtags\"):\n",
    "        template_parts.append(f\"- **Hashtags/URLs**: {user_inputs['hashtags']}\\n\")\n",
    "\n",
    "    if user_inputs.get(\"tone_style\"):\n",
    "        template_parts.append(f\"\\nThe tone of the post should be {user_inputs['tone_style']}. Ensure the post is clear, engaging, and motivates the audience to take action.\\n\")\n",
    "\n",
    "    template_parts.append(\"\\nHere’s the format you should follow:\\n\")\n",
    "    template_parts.append(\"1. Start with an attention-grabbing statement.\\n\")\n",
    "    template_parts.append(\"2. Clearly state the challenge or problem addressed.\\n\")\n",
    "    template_parts.append(\"3. List the achievements or results in bullet points or brief statements.\\n\")\n",
    "    template_parts.append(\"4. Include relevant data, quotes, or testimonials.\\n\")\n",
    "    template_parts.append(\"5. End with a compelling call to action.\\n\")\n",
    "    template_parts.append(\"6. Incorporate hashtags and URLs as provided.\\n\")\n",
    "\n",
    "    template_parts.append(\"\\nMake sure to adapt the format to fit well within typical social media platforms.\\n\")\n",
    "\n",
    "    return ''.join(template_parts)"
   ]
  },
  {
   "cell_type": "code",
   "execution_count": 16,
   "metadata": {},
   "outputs": [],
   "source": [
    "def generate_prompt_template(user_inputs):\n",
    "    template_str = create_dynamic_template(user_inputs)\n",
    "    return PromptTemplate(\n",
    "        input_variables=[\n",
    "            \"topic\",\n",
    "            \"message\",\n",
    "            \"achievements\",\n",
    "            \"data\",\n",
    "            \"call_to_action\",\n",
    "            \"hashtags\",\n",
    "            \"tone_style\"\n",
    "        ],\n",
    "        template=template_str\n",
    "    )"
   ]
  },
  {
   "cell_type": "code",
   "execution_count": 17,
   "metadata": {},
   "outputs": [
    {
     "name": "stdout",
     "output_type": "stream",
     "text": [
      "Please answer the following questions to generate your social media prompt:\n"
     ]
    }
   ],
   "source": [
    "# taking input from the user\n",
    "user_inputs = get_user_inputs()\n",
    "\n",
    "prompt_template = generate_prompt_template(user_inputs)\n",
    "llm_chain = LLMChain(\n",
    "    prompt=prompt_template,\n",
    "    llm=model\n",
    ")"
   ]
  },
  {
   "cell_type": "code",
   "execution_count": 18,
   "metadata": {},
   "outputs": [
    {
     "name": "stdout",
     "output_type": "stream",
     "text": [
      "\n",
      "Generated Social Media Prompt Instruction:\n",
      " You are a skilled social media content creator. Use the following details to create a professional and engaging social media post:\n",
      "- **Topic**: successful collaboration between Sodexo and CoachHub to accelerate leadership development across the APMEA region.\n",
      "- **Key Message**: The challenge addressed in this case was the need for scalable leadership development programs that could effectively engage and develop employees across diverse geographic regions, particularly in the Asia Pacific, Middle East, and Africa (APMEA)\n",
      "- **Achievements**: The key results achieved in this story include the implementation of scalable coaching programs powered by AI and analytics, which led to improved knowledge retention, enhanced leadership skills, and increased employee engagement across the APMEA region.\n",
      "- **Data/Quote/Testimonial**: 75% of classroom-style training is forgotten if it's not implemented within 6 days after.\n",
      "- **Call to Action**: Join thousands of coachees like Sodexo's Head of FMCG Accounts, Jean Baptiste CALEMARD, on a journey of growth and transformation to explore the greater you.\n",
      "- **Hashtags/URLs**: #ExploreTheGreaterYou https://bit.ly/3LMxIHg \n",
      "\n",
      "The tone of the post should be professional and make sure to write the achievements in the form of points.. Ensure the post is clear, engaging, and motivates the audience to take action.\n",
      "\n",
      "Here’s the format you should follow:\n",
      "1. Start with an attention-grabbing statement.\n",
      "2. Clearly state the challenge or problem addressed.\n",
      "3. List the achievements or results in bullet points or brief statements.\n",
      "4. Include relevant data, quotes, or testimonials.\n",
      "5. End with a compelling call to action.\n",
      "6. Incorporate hashtags and URLs as provided.\n",
      "\n",
      "Make sure to adapt the format to fit well within typical social media platforms.\n",
      "\n"
     ]
    }
   ],
   "source": [
    "generated_prompt_instruction = prompt_template.format(**user_inputs)\n",
    "print(\"\\nGenerated Social Media Prompt Instruction:\\n\" , generated_prompt_instruction)"
   ]
  },
  {
   "cell_type": "code",
   "execution_count": 22,
   "metadata": {},
   "outputs": [],
   "source": [
    "openai.api_key = OPENAI_KEY"
   ]
  },
  {
   "cell_type": "code",
   "execution_count": 23,
   "metadata": {},
   "outputs": [],
   "source": [
    "response = openai.Completion.create(\n",
    "        engine=\"gpt-3.5-turbo-instruct\",  \n",
    "        prompt= generated_prompt_instruction,\n",
    "        max_tokens=1500, \n",
    "        temperature=0.7)"
   ]
  },
  {
   "cell_type": "code",
   "execution_count": 32,
   "metadata": {},
   "outputs": [
    {
     "name": "stdout",
     "output_type": "stream",
     "text": [
      "\"Leadership development is crucial for the success of any organization, especially when it comes to diverse geographic regions. That's why Sodexo and CoachHub have joined forces to create a successful collaboration in the APMEA region. #ExploreTheGreaterYou https://bit.ly/3LMxIHg \n",
      "\n",
      "The challenge? The need for scalable leadership development programs that effectively engage and develop employees across diverse regions. But thanks to this partnership, here's what we achieved: \n",
      "\n",
      "- Implementation of scalable coaching programs powered by AI and analytics \n",
      "- Improved knowledge retention \n",
      "- Enhanced leadership skills \n",
      "- Increased employee engagement \n",
      "\n",
      "As Sodexo's Head of FMCG Accounts, Jean Baptiste CALEMARD, said, \"75% of classroom-style training is forgotten if it's not implemented within 6 days after.\" Don't let your training go to waste. Join thousands of coachees on a journey of growth and transformation. #ExploreTheGreaterYou https://bit.ly/3LMxIHg\"\n"
     ]
    }
   ],
   "source": [
    "print(output)"
   ]
  },
  {
   "cell_type": "code",
   "execution_count": null,
   "metadata": {},
   "outputs": [],
   "source": []
  }
 ],
 "metadata": {
  "kernelspec": {
   "display_name": "Python 3",
   "language": "python",
   "name": "python3"
  },
  "language_info": {
   "codemirror_mode": {
    "name": "ipython",
    "version": 3
   },
   "file_extension": ".py",
   "mimetype": "text/x-python",
   "name": "python",
   "nbconvert_exporter": "python",
   "pygments_lexer": "ipython3",
   "version": "3.11.9"
  }
 },
 "nbformat": 4,
 "nbformat_minor": 2
}
