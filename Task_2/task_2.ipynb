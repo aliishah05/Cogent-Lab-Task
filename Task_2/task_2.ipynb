{
 "cells": [
  {
   "cell_type": "code",
   "execution_count": 1,
   "metadata": {},
   "outputs": [],
   "source": [
    "import pandas as pd"
   ]
  },
  {
   "cell_type": "code",
   "execution_count": 24,
   "metadata": {},
   "outputs": [],
   "source": [
    "import openai"
   ]
  },
  {
   "cell_type": "code",
   "execution_count": 18,
   "metadata": {},
   "outputs": [],
   "source": [
    "from langchain.llms import OpenAI\n",
    "from langchain.prompts import PromptTemplate\n",
    "from langchain.chains import LLMChain"
   ]
  },
  {
   "cell_type": "code",
   "execution_count": 27,
   "metadata": {},
   "outputs": [],
   "source": [
    "import openai\n",
    "import os\n",
    "\n",
    "from dotenv import load_dotenv\n",
    "\n",
    "load_dotenv()\n",
    "\n",
    "OPENAI_KEY = os.getenv('OPENAI_API_KEY')\n",
    "\n",
    "openai.api_key = OPENAI_KEY"
   ]
  },
  {
   "cell_type": "markdown",
   "metadata": {},
   "source": [
    "Data Generation of Students"
   ]
  },
  {
   "cell_type": "code",
   "execution_count": 2,
   "metadata": {},
   "outputs": [],
   "source": [
    "# Random data generation\n",
    "data = {\n",
    "    \"Name\": [\"Alice Smith\", \"Bob Johnson\", \"Charlie Brown\", \"Dana Lee\"],\n",
    "    \"Field of study\": [\"Computer Science\", \"Mechanical Engineering\", \"Business Administration\", \"Biochemistry\"],\n",
    "    \"Year of study\": [\"2nd Year\", \"3rd Year\", \"1st Year\", \"2nd Year\"],\n",
    "    \"List of subjects\": [\n",
    "        \"Algorithms;Data Structures;Machine Learning;Databases;Operating Systems\",\n",
    "        \"Statics;Dynamics;Thermodynamics;Fluid Mechanics;Materials Science\",\n",
    "        \"Marketing;Finance;Accounting;Economics;Management\",\n",
    "        \"Organic Chemistry;Biology;Genetics;Microbiology;Biochemistry\"\n",
    "    ],\n",
    "    \"Preferred Learning Styles\": [\n",
    "        \"Visual;Kinesthetic\",\n",
    "        \"Auditory;Kinesthetic\",\n",
    "        \"Visual;Auditory\",\n",
    "        \"Visual;Kinesthetic\"\n",
    "    ],\n",
    "    \"Personal Objectives\": [\n",
    "        \"Prepare for Machine Learning certification exam\",\n",
    "        \"Improve grades in Thermodynamics;Prepare for senior design project\",\n",
    "        \"Gain a summer internship;Improve presentation skills\",\n",
    "        \"Prepare for MCAT;Improve lab skills\"\n",
    "    ],\n",
    "    \"Challenges\": [\n",
    "        \"Difficulty in understanding complex algorithms;Managing study time effectively\",\n",
    "        \"Struggles with complex theoretical concepts;Time management issues\",\n",
    "        \"Difficulty with finance concepts;Public speaking anxiety\",\n",
    "        \"Struggles with complex biochemical pathways;Balancing study with lab work\"\n",
    "    ],\n",
    "    \"Extracurricular activities\": [\n",
    "        \"Member of the coding club;Volunteer at local community center\",\n",
    "        \"President of the engineering club;Intern at an automotive company\",\n",
    "        \"Member of the debate team;Volunteer at local non-profit\",\n",
    "        \"Assistant in a research lab;Member of the biochemistry student association\"\n",
    "    ]\n",
    "}"
   ]
  },
  {
   "cell_type": "code",
   "execution_count": 3,
   "metadata": {},
   "outputs": [
    {
     "name": "stdout",
     "output_type": "stream",
     "text": [
      "Data Saved in csv file\n"
     ]
    }
   ],
   "source": [
    "df = pd.DataFrame(data)\n",
    "output_csv = 'students_data.csv'\n",
    "df.to_csv(output_csv, index=False)\n",
    "print(\"Data Saved in csv file\")"
   ]
  },
  {
   "cell_type": "markdown",
   "metadata": {},
   "source": [
    "Prompt Generation"
   ]
  },
  {
   "cell_type": "code",
   "execution_count": 7,
   "metadata": {},
   "outputs": [],
   "source": [
    "prompt_template = \"\"\"\n",
    "You are an advanced educational assistant tasked with creating a personalized study timetable for a student. You have access to a range of information about the student, including their name, field of study, year of study, list of subjects, preferred learning styles, personal objectives, challenges, and extracurricular activities. Use the provided data to generate a detailed study timetable that addresses the student’s academic requirements and aligns with their unique needs and aspirations. Ensure the timetable is structured and comprehensive, taking into account all the provided information.\n",
    "\n",
    "Student Information:\n",
    "- Name: {name}\n",
    "- Field of Study: {field_of_study}\n",
    "- Year of Study: {year_of_study}\n",
    "- List of Subjects: {list_of_subjects}\n",
    "- Preferred Learning Styles: {preferred_learning_styles}\n",
    "- Personal Objectives: {personal_objectives}\n",
    "- Challenges: {challenges}\n",
    "- Extracurricular Activities: {extracurricular_activities}\n",
    "\n",
    "Structure of the Study Timetable:\n",
    "1. Introduction\n",
    "   - Brief overview of the student’s academic background and goals.\n",
    "   - Summary of the student’s preferred learning styles and how they will be incorporated into the timetable.\n",
    "\n",
    "2. Academic Schedule\n",
    "   - Detailed weekly schedule for each subject, including study hours, revision sessions, and assessment preparation.\n",
    "   - Allocation of study time based on the student’s strengths and areas that need improvement.\n",
    "\n",
    "3. Learning Techniques\n",
    "   - Specific learning techniques tailored to the student’s preferred learning styles (visual, auditory, kinesthetic).\n",
    "   - Use of multimedia resources, interactive sessions, practical exercises, and group studies as applicable.\n",
    "\n",
    "4. Personal Objectives and Challenges\n",
    "   - Customized strategies to achieve the student’s personal objectives (e.g., preparing for a specific exam, mastering a particular subject).\n",
    "   - Practical solutions and support mechanisms to overcome the student’s challenges (e.g., dealing with a learning difficulty, managing time effectively).\n",
    "\n",
    "5. Extracurricular Integration\n",
    "   - Balancing academic responsibilities with extracurricular activities.\n",
    "   - Incorporating time management skills and stress-relief practices to maintain a healthy academic-extracurricular balance.\n",
    "\n",
    "6. Assessment and Feedback\n",
    "   - Regular self-assessment techniques to monitor progress.\n",
    "   - Scheduled feedback sessions with tutors or mentors to review performance and make necessary adjustments to the timetable.\n",
    "\n",
    "7. Resources and Support\n",
    "   - List of recommended resources (books, online courses, study groups, etc.).\n",
    "   - Contact information for academic support services, peer study groups, and other helpful resources.\n",
    "\"\"\""
   ]
  },
  {
   "cell_type": "code",
   "execution_count": 8,
   "metadata": {},
   "outputs": [],
   "source": [
    "input_csv = 'students_data.csv'\n",
    "students_df = pd.read_csv(input_csv)"
   ]
  },
  {
   "cell_type": "code",
   "execution_count": 10,
   "metadata": {},
   "outputs": [],
   "source": [
    "generated_prompts = []"
   ]
  },
  {
   "cell_type": "code",
   "execution_count": 11,
   "metadata": {},
   "outputs": [],
   "source": [
    "for index, row in students_df.iterrows():\n",
    "    # Fill the prompt with the student's data\n",
    "    filled_prompt = prompt_template.format(\n",
    "        name=row['Name'],\n",
    "        field_of_study=row['Field of study'],\n",
    "        year_of_study=row['Year of study'],\n",
    "        list_of_subjects=row['List of subjects'],\n",
    "        preferred_learning_styles=row['Preferred Learning Styles'],\n",
    "        personal_objectives=row['Personal Objectives'],\n",
    "        challenges=row['Challenges'],\n",
    "        extracurricular_activities=row['Extracurricular activities']\n",
    "    )\n",
    "\n",
    "    # Store the prompt\n",
    "    generated_prompts.append({\n",
    "        'Name': row['Name'],\n",
    "        'Field of Study': row['Field of study'],\n",
    "        'Year of Study': row['Year of study'],\n",
    "        'Generated Prompt': filled_prompt\n",
    "    })"
   ]
  },
  {
   "cell_type": "code",
   "execution_count": 12,
   "metadata": {},
   "outputs": [],
   "source": [
    "output_df = pd.DataFrame(generated_prompts)"
   ]
  },
  {
   "cell_type": "code",
   "execution_count": 14,
   "metadata": {},
   "outputs": [
    {
     "name": "stdout",
     "output_type": "stream",
     "text": [
      "Generated prompts have been saved to generated_prompts.csv\n"
     ]
    }
   ],
   "source": [
    "output_csv = 'generated_prompts.csv'\n",
    "output_df.to_csv(output_csv, index=False)\n",
    "print(f\"Generated prompts have been saved to {output_csv}\")"
   ]
  },
  {
   "cell_type": "markdown",
   "metadata": {},
   "source": [
    "Giving prompts to generate output"
   ]
  },
  {
   "cell_type": "code",
   "execution_count": 15,
   "metadata": {},
   "outputs": [],
   "source": [
    "prompts_df = pd.read_csv(output_csv)"
   ]
  },
  {
   "cell_type": "code",
   "execution_count": 29,
   "metadata": {},
   "outputs": [],
   "source": [
    "study_plans = []\n",
    "\n",
    "for index, row in prompts_df.iterrows():\n",
    "    response = openai.Completion.create(\n",
    "        engine=\"gpt-3.5-turbo-instruct\",  \n",
    "        prompt=row['Generated Prompt'],\n",
    "        max_tokens=1500, \n",
    "        temperature=0.7\n",
    "    )\n",
    "    study_plan = response.choices[0].text.strip()\n",
    "\n",
    "    study_plans.append({\n",
    "        'Name': row['Name'],\n",
    "        'Field of Study': row['Field of Study'],\n",
    "        'Year of Study': row['Year of Study'],\n",
    "        'Generated Study Plan': study_plan\n",
    "    })"
   ]
  },
  {
   "cell_type": "code",
   "execution_count": 30,
   "metadata": {},
   "outputs": [],
   "source": [
    "study_plans_df = pd.DataFrame(study_plans)"
   ]
  },
  {
   "cell_type": "code",
   "execution_count": 31,
   "metadata": {},
   "outputs": [
    {
     "name": "stdout",
     "output_type": "stream",
     "text": [
      "Generated study plans have been saved to generated_study_plans.csv\n"
     ]
    }
   ],
   "source": [
    "study_plans_csv = 'generated_study_plans.csv'\n",
    "study_plans_df.to_csv(study_plans_csv, index=False)\n",
    "print(f\"Generated study plans have been saved to {study_plans_csv}\")"
   ]
  },
  {
   "cell_type": "code",
   "execution_count": 32,
   "metadata": {},
   "outputs": [
    {
     "name": "stdout",
     "output_type": "stream",
     "text": [
      "Name: Alice Smith\n",
      "\n",
      "Field of Study: Computer Science\n",
      "\n",
      "Year of Study: 2nd Year\n",
      "\n",
      "Generated Study Plan:\n",
      "8. Conclusion\n",
      "   - Summary of the study timetable and its alignment with the student’s unique needs and aspirations.\n",
      "   - Encouragement for the student to follow the timetable consistently and make necessary adjustments as needed.\n",
      "\n",
      "Name: Bob Johnson\n",
      "\n",
      "Field of Study: Mechanical Engineering\n",
      "\n",
      "Year of Study: 3rd Year\n",
      "\n",
      "Generated Study Plan:\n",
      "8. Conclusion\n",
      "   - Recap of the study timetable and its alignment with the student’s academic requirements and personal goals.\n",
      "   - Encouragement and motivation for the student to follow the timetable consistently and seek help when needed.\n",
      "\n",
      "Name: Charlie Brown\n",
      "\n",
      "Field of Study: Business Administration\n",
      "\n",
      "Year of Study: 1st Year\n",
      "\n",
      "Generated Study Plan:\n",
      "- Encouragement to seek help when needed and to utilize available resources effectively.\n",
      "\n",
      "Conclusion:\n",
      "   - Summary of the study timetable and its alignment with the student’s academic requirements and unique needs.\n",
      "   - Encouragement to stick to the timetable and remain committed to achieving the set goals.\n",
      "   - Reminder to regularly review and adjust the timetable as needed to ensure its effectiveness.\n",
      "\n",
      "Example Study Timetable for Charlie Brown:\n",
      "\n",
      "Monday:\n",
      "8:00 AM - 9:00 AM: Economics Study Session (visual learning techniques)\n",
      "9:00 AM - 10:00 AM: Marketing Study Session (auditory learning techniques)\n",
      "10:00 AM - 11:00 AM: Finance Study Session (kinesthetic learning techniques)\n",
      "11:00 AM - 12:00 PM: Break\n",
      "12:00 PM - 1:00 PM: Accounting Study Session (visual and auditory learning techniques)\n",
      "1:00 PM - 2:00 PM: Lunch\n",
      "2:00 PM - 3:00 PM: Management Study Session (kinesthetic and visual learning techniques)\n",
      "3:00 PM - 4:00 PM: Debate Team Practice\n",
      "4:00 PM - 5:00 PM: Volunteer Work at Non-Profit Organization\n",
      "\n",
      "Tuesday:\n",
      "8:00 AM - 9:00 AM: Finance Study Session (kinesthetic and visual learning techniques)\n",
      "9:00 AM - 10:00 AM: Economics Study Session (auditory learning techniques)\n",
      "10:00 AM - 11:00 AM: Marketing Study Session (visual learning techniques)\n",
      "11:00 AM - 12:00 PM: Break\n",
      "12:00 PM - 1:00 PM: Management Study Session (auditory learning techniques)\n",
      "1:00 PM - 2:00 PM: Lunch\n",
      "2:00 PM - 3:00 PM: Accounting Study Session (kinesthetic learning techniques)\n",
      "3:00 PM - 4:00 PM: Debate Team Practice\n",
      "4:00 PM - 5:00 PM: Volunteer Work at Non-Profit Organization\n",
      "\n",
      "Wednesday:\n",
      "8:00 AM - 9:00 AM: Accounting Study Session (visual and auditory learning techniques)\n",
      "9:00 AM - 10:00 AM: Management Study Session (kinesthetic and visual learning techniques)\n",
      "10:00 AM - 11:00 AM: Finance Study Session (auditory learning techniques)\n",
      "11:00 AM - 12:00 PM: Break\n",
      "12:00 PM - 1:00 PM: Economics Study Session (auditory learning techniques)\n",
      "1:00 PM - 2:00 PM: Lunch\n",
      "2:00 PM - 3:00 PM: Marketing Study Session (kinesthetic and visual learning techniques)\n",
      "3:00 PM - 4:00 PM: Debate Team Practice\n",
      "4:00 PM - 5:00 PM: Volunteer Work at Non-Profit Organization\n",
      "\n",
      "Thursday:\n",
      "8:00 AM - 9:00 AM: Management Study Session (visual and auditory learning techniques)\n",
      "9:00 AM - 10:00 AM: Accounting Study Session (auditory learning techniques)\n",
      "10:00 AM - 11:00 AM: Economics Study Session (kinesthetic learning techniques)\n",
      "11:00 AM - 12:00 PM: Break\n",
      "12:00 PM - 1:00 PM: Marketing Study Session (visual learning techniques)\n",
      "1:00 PM - 2:00 PM: Lunch\n",
      "2:00 PM - 3:00 PM: Finance Study Session (kinesthetic and visual learning techniques)\n",
      "3:00 PM - 4:00 PM: Debate Team Practice\n",
      "4:00 PM - 5:00 PM: Volunteer Work at Non-Profit Organization\n",
      "\n",
      "Friday:\n",
      "8:00 AM - 9:00 AM: Economics Study Session (auditory learning techniques)\n",
      "9:00 AM - 10:00 AM: Accounting Study Session (visual and auditory learning techniques)\n",
      "10:00 AM - 11:00 AM: Management Study Session (kinesthetic learning techniques)\n",
      "11:00 AM - 12:00 PM: Break\n",
      "12:00 PM - 1:00 PM: Finance Study Session (visual and auditory learning techniques)\n",
      "1:00 PM - 2:00 PM: Lunch\n",
      "2:00 PM - 3:00 PM: Marketing Study Session (kinesthetic learning techniques)\n",
      "3:00 PM - 4:00 PM: Debate Team Practice\n",
      "4:00 PM - 5:00 PM: Volunteer Work at Non-Profit Organization\n",
      "\n",
      "Saturday:\n",
      "8:00 AM - 9:00 AM: Mock Exam/Revision Session (all subjects)\n",
      "9:00 AM - 10:00 AM: Personal Presentation Skills Practice\n",
      "10:00 AM - 11:00 AM: Break\n",
      "11:00 AM - 12:00 PM: Mock Exam/Revision Session (all subjects)\n",
      "12:00 PM - 1:00 PM: Lunch\n",
      "1:00 PM - 2:00 PM: Personal Presentation Skills Practice\n",
      "2:00 PM - 3:00 PM: Mock Exam/Revision Session (all subjects)\n",
      "\n",
      "Sunday:\n",
      "8:00 AM - 9:00 AM: Personal Presentation Skills Practice\n",
      "9:00 AM - 10:00 AM: Break\n",
      "10:00 AM - 11:00 AM: Mock Exam/Revision Session (all subjects)\n",
      "11:00 AM - 12:00 PM: Personal Presentation Skills Practice\n",
      "12:00 PM - 1:00 PM: Lunch\n",
      "1:00 PM - 2:00 PM: Mock Exam/Revision Session (all subjects)\n",
      "\n",
      "Name: Dana Lee\n",
      "\n",
      "Field of Study: Biochemistry\n",
      "\n",
      "Year of Study: 2nd Year\n",
      "\n",
      "Generated Study Plan:\n",
      "- Encouraging the student to seek help when needed and emphasizing the importance of self-care.\n",
      "\n",
      "8. Conclusion\n",
      "   - Recap of the study timetable and its purpose.\n",
      "   - Final words of encouragement and motivation to help the student stay focused and achieve their academic goals.\n",
      "\n",
      "Sample Study Timetable for Dana Lee:\n",
      "\n",
      "Monday:\n",
      "9:00am-11:00am - Organic Chemistry study session\n",
      "11:00am-12:00pm - Biology revision session\n",
      "1:00pm-3:00pm - Microbiology study session\n",
      "3:00pm-4:00pm - Kinesthetic learning activity for Biochemistry\n",
      "4:00pm-5:00pm - MCAT preparation (online practice exam)\n",
      "5:00pm-6:00pm - Lab work at research lab\n",
      "\n",
      "Tuesday:\n",
      "9:00am-11:00am - Genetics study session\n",
      "11:00am-12:00pm - Visual learning activity for Organic Chemistry\n",
      "1:00pm-3:00pm - Biochemistry study session\n",
      "3:00pm-4:00pm - Kinesthetic learning activity for Genetics\n",
      "4:00pm-5:00pm - MCAT preparation (review of practice exam)\n",
      "5:00pm-6:00pm - Lab work at research lab\n",
      "\n",
      "Wednesday:\n",
      "9:00am-11:00am - Biology study session\n",
      "11:00am-12:00pm - Kinesthetic learning activity for Microbiology\n",
      "1:00pm-3:00pm - Organic Chemistry study session\n",
      "3:00pm-4:00pm - MCAT preparation (online practice exam)\n",
      "4:00pm-5:00pm - Lab work at research lab\n",
      "5:00pm-6:00pm - Break time/Extracurricular activities (e.g., biochemistry student association meeting)\n",
      "\n",
      "Thursday:\n",
      "9:00am-11:00am - Microbiology study session\n",
      "11:00am-12:00pm - Visual learning activity for Genetics\n",
      "1:00pm-3:00pm - Genetics study session\n",
      "3:00pm-4:00pm - MCAT preparation (review of practice exam)\n",
      "4:00pm-5:00pm - Lab work at research lab\n",
      "5:00pm-6:00pm - Kinesthetic learning activity for Biology\n",
      "\n",
      "Friday:\n",
      "9:00am-11:00am - Biochemistry study session\n",
      "11:00am-12:00pm - Kinesthetic learning activity for Organic Chemistry\n",
      "1:00pm-3:00pm - Biology study session\n",
      "3:00pm-4:00pm - MCAT preparation (online practice exam)\n",
      "4:00pm-5:00pm - Lab work at research lab\n",
      "5:00pm-6:00pm - Break time/Extracurricular activities (e.g., volunteering at a healthcare facility)\n",
      "\n",
      "Saturday:\n",
      "9:00am-11:00am - Organic Chemistry study session\n",
      "11:00am-12:00pm - Visual learning activity for Biochemistry\n",
      "1:00pm-3:00pm - Microbiology study session\n",
      "3:00pm-4:00pm - MCAT preparation (review of practice exam)\n",
      "4:00pm-6:00pm - Break time/Extracurricular activities (e.g., outdoor activity with friends)\n",
      "\n",
      "Sunday:\n",
      "9:00am-11:00am - Genetics study session\n",
      "11:00am-12:00pm - Kinesthetic learning activity for Microbiology\n",
      "1:00pm-3:00pm - Biochemistry study session\n",
      "3:00pm-4:00pm - MCAT preparation (online practice exam)\n",
      "4:00pm-6:00pm - Break time/Self-assessment and feedback session with tutor or mentor\n",
      "\n",
      "Note: This is just a sample timetable and can be adjusted based on the student's specific needs and schedule. It is important to create a balance between study time, breaks, and extracurricular activities to avoid burnout and maintain a healthy lifestyle. Regularly reviewing and adjusting the timetable will also ensure it remains effective and relevant to the student's goals and challenges.\n",
      "\n"
     ]
    }
   ],
   "source": [
    "for plan in study_plans:\n",
    "    print(f\"Name: {plan['Name']}\\n\")\n",
    "    print(f\"Field of Study: {plan['Field of Study']}\\n\")\n",
    "    print(f\"Year of Study: {plan['Year of Study']}\\n\")\n",
    "    print(f\"Generated Study Plan:\\n{plan['Generated Study Plan']}\\n\")"
   ]
  },
  {
   "cell_type": "markdown",
   "metadata": {},
   "source": [
    "Or you can check the output here"
   ]
  },
  {
   "cell_type": "markdown",
   "metadata": {},
   "source": [
    "https://chatgpt.com/share/af623308-d5ad-4fc7-a6c1-594bc5502c18"
   ]
  }
 ],
 "metadata": {
  "kernelspec": {
   "display_name": "Python 3",
   "language": "python",
   "name": "python3"
  },
  "language_info": {
   "codemirror_mode": {
    "name": "ipython",
    "version": 3
   },
   "file_extension": ".py",
   "mimetype": "text/x-python",
   "name": "python",
   "nbconvert_exporter": "python",
   "pygments_lexer": "ipython3",
   "version": "3.11.9"
  }
 },
 "nbformat": 4,
 "nbformat_minor": 2
}
